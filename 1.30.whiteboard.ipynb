{
 "cells": [
  {
   "cell_type": "code",
   "execution_count": 1,
   "id": "458e6470-b578-463a-997f-65bafbbcfcea",
   "metadata": {},
   "outputs": [],
   "source": [
    "# Move Zeros\n",
    "# Given an array nums, write a function to move all 0's to the end of it \n",
    "# while maintaining the relative order of the non-zero elements.\n",
    "\n",
    "# Example:\n",
    "# Input: [0,1,0,3,12]\n",
    "# Output: [1,3,12,0,0]\n",
    "\n",
    "# Example Input: [0,0,11,2,3,4]\n",
    "# Example Output: [11,2,3,4,0,0]\n",
    "\n",
    "# Example Input: [0,5,0,0,3]\n",
    "# Example Output: [5,3,0,0,0]"
   ]
  },
  {
   "cell_type": "code",
   "execution_count": 73,
   "id": "773d7252-8861-4c34-96f0-a43e8a6a4ca2",
   "metadata": {},
   "outputs": [],
   "source": [
    "input = [0,1,0,3,12]\n",
    "input2 = [0,0,11,2,3,4,0]\n",
    "input3 = [0,5,0,0,3]"
   ]
  },
  {
   "cell_type": "code",
   "execution_count": 78,
   "id": "c19b1ec6-0cdb-4661-97f8-e1861c3d425b",
   "metadata": {},
   "outputs": [
    {
     "data": {
      "text/plain": [
       "[11, 2, 3, 4, 0, 0, 0]"
      ]
     },
     "execution_count": 78,
     "metadata": {},
     "output_type": "execute_result"
    }
   ],
   "source": [
    "def USA_1950(input):\n",
    "    \"\"\"\n",
    "        This function is using remove and append. When parsing through the list, if a number is equal to 0, we will remove it and append it to the back.\n",
    "        We return the modify list\n",
    "\n",
    "        Time Complexity: O(n^2). The remove operation inside the loop has O(n) complexity, and it is called up to n times.\n",
    "        Space Complexity: O(1). No additional space is required except for a few variables, as the modifications are done in place.\n",
    "    \"\"\"\n",
    "    for num in input:\n",
    "        if num == 0:\n",
    "            input.remove(num)\n",
    "            input.append(num)\n",
    "    return input\n",
    "\n",
    "USA_1950(input2)"
   ]
  },
  {
   "cell_type": "code",
   "execution_count": 79,
   "id": "3bd0cf8d-5673-4347-80ab-dd5c618f3e3d",
   "metadata": {
    "scrolled": true
   },
   "outputs": [
    {
     "data": {
      "text/plain": [
       "[11, 2, 3, 4, 0, 0, 0]"
      ]
     },
     "execution_count": 79,
     "metadata": {},
     "output_type": "execute_result"
    }
   ],
   "source": [
    "def USA_1940(input):\n",
    "    \"\"\"\n",
    "        This function creates a new list to keep track of all the non-zeros. Once all the non-zeros are found, the number of zeros is found by find the\n",
    "        difference between the length of the original list from the length of the non-zero list. We return a list concatenation of not_zero + zero\n",
    "\n",
    "        Time Complexity: O(n). The function iterates over each element once.\n",
    "        Space Complexity: O(n). Additional space is used for the not_zero and zero lists.\n",
    "    \"\"\"\n",
    "    not_zero = []\n",
    "    for num in input:\n",
    "        if num != 0:\n",
    "            not_zero.append(num)\n",
    "    zero = [0] * (len(input)-len(not_zero))\n",
    "\n",
    "    return not_zero + zero\n",
    "\n",
    "USA_1940(input2)"
   ]
  },
  {
   "cell_type": "code",
   "execution_count": 80,
   "id": "f323abdc-39dc-466b-8307-ae76507db360",
   "metadata": {},
   "outputs": [
    {
     "data": {
      "text/plain": [
       "[11, 2, 3, 4, 0, 0, 0]"
      ]
     },
     "execution_count": 80,
     "metadata": {},
     "output_type": "execute_result"
    }
   ],
   "source": [
    "def USA_1930(input):\n",
    "    \"\"\"\n",
    "       This function is similar to USA_1940, the difference is using list comprehension find non-zero integers.\n",
    "       \n",
    "       Time Complexity: O(n). Similar to USA_1940, the function iterates over the input list once.\n",
    "       Space Complexity: O(n). The list comprehension creates a new list, requiring additional space.\n",
    "    \"\"\"\n",
    "    not_zero = [num for num in input if num !=0]\n",
    "    zero = [0]* (len(input)-len(not_zero))\n",
    "    return not_zero + zero\n",
    "\n",
    "USA_1930(input2)"
   ]
  },
  {
   "cell_type": "code",
   "execution_count": 82,
   "id": "4fc1a624-eb57-4208-b07d-30f31592192f",
   "metadata": {},
   "outputs": [
    {
     "data": {
      "text/plain": [
       "[11, 2, 3, 4, 0, 0, 0]"
      ]
     },
     "execution_count": 82,
     "metadata": {},
     "output_type": "execute_result"
    }
   ],
   "source": [
    "def USA_1920(input):\n",
    "    \"\"\"\n",
    "        This function is similar to USA_1940 & USA_1930, except we return a list comprehension with a list concatenation\n",
    "\n",
    "        Time Complexity: O(n). The list comprehension and count method both iterate over the list once.\n",
    "        Space Complexity: O(n). Similar to USA_1930, additional space is required for the new list created by list comprehension.\n",
    "    \"\"\"\n",
    "    return [num for num in input if num != 0] + [0] * input.count(0)\n",
    "\n",
    "USA_1920(input2)"
   ]
  }
 ],
 "metadata": {
  "kernelspec": {
   "display_name": "Python 3 (ipykernel)",
   "language": "python",
   "name": "python3"
  },
  "language_info": {
   "codemirror_mode": {
    "name": "ipython",
    "version": 3
   },
   "file_extension": ".py",
   "mimetype": "text/x-python",
   "name": "python",
   "nbconvert_exporter": "python",
   "pygments_lexer": "ipython3",
   "version": "3.11.7"
  }
 },
 "nbformat": 4,
 "nbformat_minor": 5
}
