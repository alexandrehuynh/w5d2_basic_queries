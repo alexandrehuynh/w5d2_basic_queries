# Move Zeros
# Given an array nums, write a function to move all 0's to the end of it 
# while maintaining the relative order of the non-zero elements.

# Example:
# Input: [0,1,0,3,12]
# Output: [1,3,12,0,0]

# Example Input: [0,0,11,2,3,4]
# Example Output: [11,2,3,4,0,0]

# Example Input: [0,5,0,0,3]
# Example Output: [5,3,0,0,0]


input = [0,1,0,3,12]
input2 = [0,0,11,2,3,4,0]
input3 = [0,5,0,0,3]


def USA_1950(input):
    """
        This function is using remove and append. When parsing through the list, if a number is equal to 0, we will remove it and append it to the back.
        We return the modify list

        Time Complexity: O(n^2). The remove operation inside the loop has O(n) complexity, and it is called up to n times.
        Space Complexity: O(1). No additional space is required except for a few variables, as the modifications are done in place.
    """
    for num in input:
        if num == 0:
            input.remove(num)
            input.append(num)
    return input

USA_1950(input2)


def USA_1940(input):
    """
        This function creates a new list to keep track of all the non-zeros. Once all the non-zeros are found, the number of zeros is found by find the
        difference between the length of the original list from the length of the non-zero list. We return a list concatenation of not_zero + zero

        Time Complexity: O(n). The function iterates over each element once.
        Space Complexity: O(n). Additional space is used for the not_zero and zero lists.
    """
    not_zero = []
    for num in input:
        if num != 0:
            not_zero.append(num)
    zero = [0] * (len(input)-len(not_zero))

    return not_zero + zero

USA_1940(input2)


def USA_1930(input):
    """
       This function is similar to USA_1940, the difference is using list comprehension find non-zero integers.
       
       Time Complexity: O(n). Similar to USA_1940, the function iterates over the input list once.
       Space Complexity: O(n). The list comprehension creates a new list, requiring additional space.
    """
    not_zero = [num for num in input if num !=0]
    zero = [0]* (len(input)-len(not_zero))
    return not_zero + zero

USA_1930(input2)


def USA_1920(input):
    """
        This function is similar to USA_1940 & USA_1930, except we return a list comprehension with a list concatenation

        Time Complexity: O(n). The list comprehension and count method both iterate over the list once.
        Space Complexity: O(n). Similar to USA_1930, additional space is required for the new list created by list comprehension.
    """
    return [num for num in input if num != 0] + [0] * input.count(0)

USA_1920(input2)
